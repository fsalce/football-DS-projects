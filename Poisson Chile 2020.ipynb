{
 "cells": [
  {
   "cell_type": "code",
   "execution_count": 1,
   "metadata": {},
   "outputs": [],
   "source": [
    "import pandas as pd\n",
    "import numpy as np\n",
    "import matplotlib.pyplot as plt\n",
    "from matplotlib.lines import Line2D\n",
    "from datetime import datetime\n",
    "from tqdm import tqdm\n",
    "from scipy.stats import poisson, skellam\n",
    "from scipy.optimize import minimize\n",
    "import statsmodels.api as sm\n",
    "import statsmodels.formula.api as smf\n",
    "from poisson_func import * \n",
    "\n",
    "plt.style.use('ggplot')\n",
    "plt.rcParams[\"figure.figsize\"] = (16,9) "
   ]
  },
  {
   "cell_type": "markdown",
   "metadata": {},
   "source": [
    "## Simulación"
   ]
  },
  {
   "cell_type": "code",
   "execution_count": null,
   "metadata": {
    "scrolled": false
   },
   "outputs": [
    {
     "name": "stderr",
     "output_type": "stream",
     "text": [
      "76it [00:01, 71.04it/s]\n",
      "  0%|          | 0/10000 [00:00<?, ?it/s]"
     ]
    },
    {
     "name": "stdout",
     "output_type": "stream",
     "text": [
      "0:00:02.340995\n"
     ]
    },
    {
     "name": "stderr",
     "output_type": "stream",
     "text": [
      "  9%|▉         | 892/10000 [09:36<1:42:26,  1.48it/s]"
     ]
    }
   ],
   "source": [
    "new_sim = True\n",
    "N_sim = 10000\n",
    "\n",
    "\n",
    "df = pd.read_csv(\"matches_chile.csv\")\n",
    "df_tabla_2019 = pd.read_csv(\"Tabla2019.csv\", index_col = \"Equipo\")\n",
    "df_tabla_2019.sort_values(by=[\"PTS\",\"DG\"], ascending = False, inplace = True)\n",
    "teams = df.Local.unique()\n",
    "poisson_model = fit_poisson_model(df)\n",
    "\n",
    "if new_sim == False:\n",
    "    df_tabla_2020 = pd.read_csv(\"Tabla2020.csv\", index_col = \"Equipo\")\n",
    "    sim_poisson_local = pd.read_csv(\"sim_poisson_local.csv\", index_col = [0,1])\n",
    "    sim_poisson_local.columns = range(1, N_sim + 1)\n",
    "    sim_poisson_visita = pd.read_csv(\"sim_poisson_visita.csv\", index_col = [0,1])\n",
    "    sim_poisson_visita.columns = range(1, N_sim + 1)\n",
    "    df_posicion = pd.read_csv(\"df_posicion.csv\", index_col = 0)\n",
    "    df_desc_stats = pd.read_csv(\"df_desc_stats.csv\", index_col = 0)\n",
    "    summary_reasons = pd.read_excel(\"resumen_descenso.xlsx\", index_col = 0)\n",
    "    df_cd3 = pd.read_csv(\"df_cd3.csv\", index_col = 0)\n",
    "    df_rel_matches = pd.read_csv(\"df_rel_matches.csv\", index_col = 0)\n",
    "else:\n",
    "    np.random.seed(42)\n",
    "    #plot_poisson_dist(df)\n",
    "    df_tabla_2020 = current_table(df, teams)\n",
    "    df_posicion = pd.DataFrame(columns = ['Equipo', 'Tabla', 'n_sim', 'Posición'])\n",
    "    N_iter = 10\n",
    "\n",
    "    sim_poisson_local, sim_poisson_visita = poisson_tournament(df, poisson_model, N = N_sim)\n",
    "    df_posicion = summary_positions(sim_poisson_local, sim_poisson_visita, N_sim, teams, df_tabla_2019,\n",
    "                                        df_tabla_2020)\n",
    "    df_desc_stats = relegation_stats(N_sim, df_posicion, poisson_model)\n",
    "    summary_reasons = create_summary_reasons(df_desc_stats, N_sim)\n",
    "    df_cd3, df_rel_matches = cases_distribution(df_posicion, N_sim)"
   ]
  },
  {
   "cell_type": "markdown",
   "metadata": {},
   "source": [
    "## Prob de campeonar"
   ]
  },
  {
   "cell_type": "code",
   "execution_count": null,
   "metadata": {},
   "outputs": [],
   "source": [
    "df_posicion[(df_posicion[\"Posición\"] == 1)&(df_posicion.Tabla == \"Absoluta\")].Equipo.value_counts()/N_sim"
   ]
  },
  {
   "cell_type": "markdown",
   "metadata": {},
   "source": [
    "## Prob partido definición Colo Colo vs Universidad de Chile"
   ]
  },
  {
   "cell_type": "code",
   "execution_count": null,
   "metadata": {},
   "outputs": [],
   "source": [
    "df_cc_uch = df_rel_matches[(df_rel_matches.team_1.isin([\"Colo-Colo\",\"Universidad de Chile\"]))&\n",
    "               (df_rel_matches.team_2.isin([\"Colo-Colo\",\"Universidad de Chile\"]))]\n",
    "print(\"Porcentaje de CC vs UCH:\", 100*df_cc_uch.shape[0]/N_sim, \"%\")\n",
    "df_cc_uch.head()"
   ]
  },
  {
   "cell_type": "markdown",
   "metadata": {},
   "source": [
    "## Casos de descenso de UCH"
   ]
  },
  {
   "cell_type": "markdown",
   "metadata": {},
   "source": [
    "#### Prob UCH último Absoluta"
   ]
  },
  {
   "cell_type": "code",
   "execution_count": null,
   "metadata": {},
   "outputs": [],
   "source": [
    "df_ult_abs = df_posicion[(df_posicion.Tabla == \"Absoluta\")&\n",
    "            (df_posicion[\"Posición\"] == 18)&\n",
    "            (df_posicion[\"Equipo\"] == \"Universidad de Chile\")]\n",
    "df_ult_abs.shape[0]/N_sim"
   ]
  },
  {
   "cell_type": "code",
   "execution_count": null,
   "metadata": {},
   "outputs": [],
   "source": [
    "df_pen_abs = df_posicion[(df_posicion.Tabla == \"Absoluta\")&\n",
    "            (df_posicion[\"Posición\"] == 17)&\n",
    "            (df_posicion[\"Equipo\"] == \"Universidad de Chile\")]\n",
    "df_pen_abs.shape[0]/N_sim"
   ]
  },
  {
   "cell_type": "code",
   "execution_count": null,
   "metadata": {},
   "outputs": [],
   "source": [
    "mod_boolean = False\n",
    "if mod_boolean == True:\n",
    "    team = \"Universidad de Chile\"\n",
    "    N_matches = 5\n",
    "    goles_team = 0\n",
    "    goles_rival = 1\n",
    "    sim_poisson_local_mod, sim_poisson_visita_mod = sim_poisson_modification(team, N_matches, goles_team, \n",
    "                                                                             goles_rival, sim_poisson_local, \n",
    "                                                                             sim_poisson_visita)\n",
    "    df_posicion_mod = summary_positions(sim_poisson_local_mod, sim_poisson_visita_mod, N_sim, teams, \n",
    "                                        df_tabla_2019, df_tabla_2020)\n",
    "    df_desc_stats_mod = relegation_stats(N_sim, df_posicion_mod, poisson_model)\n",
    "    summary_reasons_mod = summary_reasons(df_desc_stats_mod, N_sim)\n",
    "    df_cd3_mod, df_rel_matches_mod = cases_distribution(df_posicion_mod, N_sim)"
   ]
  },
  {
   "cell_type": "markdown",
   "metadata": {},
   "source": [
    "#### Prob UCH último Ponderada"
   ]
  },
  {
   "cell_type": "code",
   "execution_count": null,
   "metadata": {},
   "outputs": [],
   "source": [
    "df_ult_pon = df_posicion[(df_posicion.Tabla == \"Ponderada\")&\n",
    "            (df_posicion[\"Posición\"] == 18)&\n",
    "            (df_posicion[\"Equipo\"] == \"Universidad de Chile\")]\n",
    "sim_ult_pon = df_ult_pon.n_sim\n",
    "df_ult_pon.shape[0]/N_sim"
   ]
  },
  {
   "cell_type": "code",
   "execution_count": null,
   "metadata": {},
   "outputs": [],
   "source": [
    "df_pen_pon = df_posicion[(df_posicion.Tabla == \"Ponderada\")&\n",
    "            (df_posicion[\"Posición\"] == 17)&\n",
    "            (df_posicion[\"Equipo\"] == \"Universidad de Chile\")]\n",
    "sim_pen_pon = df_pen_pon.n_sim\n",
    "df_pen_pon.shape[0]/N_sim"
   ]
  },
  {
   "cell_type": "code",
   "execution_count": null,
   "metadata": {},
   "outputs": [],
   "source": [
    "summary_reasons"
   ]
  },
  {
   "cell_type": "code",
   "execution_count": null,
   "metadata": {},
   "outputs": [],
   "source": [
    "team = \"Universidad de Chile\"\n",
    "probs_relegation(team, df_posicion, N_sim)"
   ]
  },
  {
   "cell_type": "code",
   "execution_count": null,
   "metadata": {},
   "outputs": [],
   "source": [
    "team = \"Iquique\"\n",
    "probs_relegation(team, df_posicion, N_sim)"
   ]
  },
  {
   "cell_type": "code",
   "execution_count": null,
   "metadata": {},
   "outputs": [],
   "source": [
    "team = \"Universidad de Concepción\"\n",
    "probs_relegation(team, df_posicion, N_sim)"
   ]
  }
 ],
 "metadata": {
  "kernelspec": {
   "display_name": "Python 3",
   "language": "python",
   "name": "python3"
  },
  "language_info": {
   "codemirror_mode": {
    "name": "ipython",
    "version": 3
   },
   "file_extension": ".py",
   "mimetype": "text/x-python",
   "name": "python",
   "nbconvert_exporter": "python",
   "pygments_lexer": "ipython3",
   "version": "3.8.3"
  }
 },
 "nbformat": 4,
 "nbformat_minor": 4
}
